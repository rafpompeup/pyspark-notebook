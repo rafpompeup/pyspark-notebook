{
 "cells": [
  {
   "cell_type": "code",
   "execution_count": 2,
   "id": "5ea1064d-e0d6-4d94-83bd-ba0eb1b5275d",
   "metadata": {
    "tags": []
   },
   "outputs": [
    {
     "name": "stdout",
     "output_type": "stream",
     "text": [
      "+-----+----------+-----+\n",
      "| nome| sobrenome|idade|\n",
      "+-----+----------+-----+\n",
      "| João|  da Silva|   25|\n",
      "|Maria|dos Santos|   22|\n",
      "| José|  Ferreira|   30|\n",
      "+-----+----------+-----+\n",
      "\n"
     ]
    }
   ],
   "source": [
    "import pyspark\n",
    "from pyspark.sql import SparkSession\n",
    "\n",
    "data_list = [('João', 'da Silva', 25), \n",
    "               ('Maria', 'dos Santos', 22), \n",
    "               ('José', 'Ferreira', 30)]\n",
    "\n",
    "spark = SparkSession.builder.appName('example_pyspark').getOrCreate()\n",
    "\n",
    "df = spark.createDataFrame(data_list, schema=['nome', 'sobrenome', 'idade'])\n",
    "df.show()"
   ]
  }
 ],
 "metadata": {
  "kernelspec": {
   "display_name": "Python 3 (ipykernel)",
   "language": "python",
   "name": "python3"
  },
  "language_info": {
   "codemirror_mode": {
    "name": "ipython",
    "version": 3
   },
   "file_extension": ".py",
   "mimetype": "text/x-python",
   "name": "python",
   "nbconvert_exporter": "python",
   "pygments_lexer": "ipython3",
   "version": "3.10.9"
  }
 },
 "nbformat": 4,
 "nbformat_minor": 5
}
