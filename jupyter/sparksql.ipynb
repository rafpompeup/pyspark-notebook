{
 "cells": [
  {
   "cell_type": "code",
   "execution_count": 5,
   "id": "9301e533-3af9-4701-9b68-f0cce31e22b5",
   "metadata": {
    "tags": []
   },
   "outputs": [
    {
     "name": "stdout",
     "output_type": "stream",
     "text": [
      "+--------------+----------+\n",
      "|          city|population|\n",
      "+--------------+----------+\n",
      "|     Sao Paulo|     12.18|\n",
      "|Rio de Janeiro|      6.32|\n",
      "+--------------+----------+\n",
      "\n"
     ]
    }
   ],
   "source": [
    "import pyspark\n",
    "from pyspark.sql import SparkSession\n",
    "\n",
    "spark = SparkSession.builder.appName('example_pyspark').getOrCreate()\n",
    "\n",
    "data = [('Sao Paulo', 12.18), ('Rio de Janeiro', 6.32), ('Belo Horizonte', 2.81), ('Brasilia', 2.78)]\n",
    "\n",
    "df = spark.createDataFrame(data, ['city', 'population'])\n",
    "\n",
    "df.createOrReplaceTempView(\"city_population\")\n",
    "\n",
    "query = \"SELECT * FROM city_population WHERE population > 5\"\n",
    "\n",
    "spark.sql(query).show()"
   ]
  }
 ],
 "metadata": {
  "kernelspec": {
   "display_name": "Python 3 (ipykernel)",
   "language": "python",
   "name": "python3"
  },
  "language_info": {
   "codemirror_mode": {
    "name": "ipython",
    "version": 3
   },
   "file_extension": ".py",
   "mimetype": "text/x-python",
   "name": "python",
   "nbconvert_exporter": "python",
   "pygments_lexer": "ipython3",
   "version": "3.10.9"
  }
 },
 "nbformat": 4,
 "nbformat_minor": 5
}
